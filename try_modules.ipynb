{
 "cells": [
  {
   "cell_type": "markdown",
   "metadata": {},
   "source": [
    "# CREATE MOCK DATA"
   ]
  },
  {
   "cell_type": "code",
   "execution_count": null,
   "metadata": {},
   "outputs": [],
   "source": [
    "mock_data = [1, 2, 3, 4, 5, 6, 7, 8, 9, 10]\n",
    "y = [x/2 for x in mock_data]"
   ]
  },
  {
   "cell_type": "code",
   "execution_count": null,
   "metadata": {},
   "outputs": [],
   "source": [
    "from scikit_learn.linear_regression import LinearRegression\n",
    "from scikit_learn.create_data import CreateData\n",
    "from scikit_learn.preprocessing.standard_scaler import StandardScaler\n",
    "import matplotlib.pyplot as plt"
   ]
  },
  {
   "cell_type": "code",
   "execution_count": null,
   "metadata": {},
   "outputs": [],
   "source": [
    "data_creator = CreateData(n_samples=100, n_features=2, noise=0.2)\n",
    "X, y = data_creator.create_data()\n",
    "# data_creator.plot_data(X, y)"
   ]
  },
  {
   "cell_type": "code",
   "execution_count": null,
   "metadata": {},
   "outputs": [],
   "source": [
    "scaler = StandardScaler()\n",
    "fitted_values = scaler.fit(X)\n",
    "print(\"Standardized mean:\", fitted_values.__dict__['mean_'])\n",
    "print(\"Standardized std:\", fitted_values.__dict__['std_'])"
   ]
  },
  {
   "cell_type": "code",
   "execution_count": null,
   "metadata": {},
   "outputs": [],
   "source": [
    "transformed_values = scaler.transform(X)\n",
    "print(\"Standardized Mean:\", transformed_values.mean())\n",
    "print(\"Standardized std:\", transformed_values.std())"
   ]
  },
  {
   "cell_type": "code",
   "execution_count": null,
   "metadata": {},
   "outputs": [],
   "source": [
    "import matplotlib.pyplot as plt\n",
    "# plt.hist(transformed_values, bins=30, alpha=0.5, label='X')"
   ]
  },
  {
   "cell_type": "code",
   "execution_count": null,
   "metadata": {},
   "outputs": [],
   "source": [
    "X_transformed = scaler.fit_transform(X)"
   ]
  },
  {
   "cell_type": "code",
   "execution_count": null,
   "metadata": {},
   "outputs": [],
   "source": [
    "linear_regression = LinearRegression()\n",
    "linear_regression.fit(X, y)\n",
    "coef, intercept = linear_regression.coef_, linear_regression.intercept_\n",
    "print(coef, intercept)"
   ]
  },
  {
   "cell_type": "code",
   "execution_count": null,
   "metadata": {},
   "outputs": [],
   "source": [
    "predictions = linear_regression.predict(X)"
   ]
  },
  {
   "cell_type": "code",
   "execution_count": null,
   "metadata": {},
   "outputs": [],
   "source": [
    "linear_regression.score(X, y)"
   ]
  },
  {
   "cell_type": "code",
   "execution_count": null,
   "metadata": {},
   "outputs": [],
   "source": [
    "linear_regression.set_params(coef_=10, intercept_=1)\n",
    "linear_regression.get_params()"
   ]
  },
  {
   "cell_type": "code",
   "execution_count": null,
   "metadata": {},
   "outputs": [],
   "source": [
    "linear_regression._get_param_names()"
   ]
  },
  {
   "cell_type": "code",
   "execution_count": null,
   "metadata": {},
   "outputs": [],
   "source": [
    "getattr(linear_regression, 'coef_')"
   ]
  },
  {
   "cell_type": "code",
   "execution_count": null,
   "metadata": {},
   "outputs": [],
   "source": [
    "# out = dict()\n",
    "# for key_value in linear_regression._get_param_names():\n",
    "#     value = getattr(linear_regression, key_value)\n",
    "#     if hasattr(value, \"get_params\"):\n",
    "#         print(value)\n",
    "#         deep_items = value.get_params()\n",
    "#     out[key_value] = value   \n",
    "\n",
    "out"
   ]
  },
  {
   "cell_type": "markdown",
   "metadata": {},
   "source": [
    "# SCIKIT-LEARN"
   ]
  },
  {
   "cell_type": "markdown",
   "metadata": {},
   "source": [
    "# PIPELINES"
   ]
  },
  {
   "cell_type": "code",
   "execution_count": 1,
   "metadata": {},
   "outputs": [
    {
     "name": "stdout",
     "output_type": "stream",
     "text": [
      "[0.52430539 0.46108942 0.50728594 0.42952141 0.46929324]\n"
     ]
    }
   ],
   "source": [
    "from scikit_learn.pipeline import Pipeline\n",
    "from scikit_learn.linear_regression import LinearRegression\n",
    "from scikit_learn.create_data import CreateData\n",
    "from scikit_learn.preprocessing.standard_scaler import StandardScaler\n",
    "from itertools import islice\n",
    "import inspect"
   ]
  },
  {
   "cell_type": "code",
   "execution_count": 10,
   "metadata": {},
   "outputs": [
    {
     "data": {
      "text/plain": [
       "{'scaler': <scikit_learn.preprocessing.standard_scaler.standard_scaler.StandardScaler at 0x126230f90>,\n",
       " 'lr': <scikit_learn.linear_regression.linear_regression.LinearRegression at 0x12740b210>}"
      ]
     },
     "execution_count": 10,
     "metadata": {},
     "output_type": "execute_result"
    }
   ],
   "source": [
    "out = dict()\n",
    "\n",
    "pipeline_steps = [\n",
    "    (\"scaler\", StandardScaler()),\n",
    "    (\"lr\", LinearRegression()),\n",
    "]\n",
    " \n",
    "pipeline = Pipeline(steps=pipeline_steps)\n",
    "pipeline._validate_steps()\n",
    "\n",
    "pipeline.get_params()\n",
    "\n",
    "params = {\n",
    "    \"scaler__attr1\": 1,\n",
    "}\n",
    "\n",
    "pipeline._named_steps"
   ]
  },
  {
   "cell_type": "code",
   "execution_count": 11,
   "metadata": {},
   "outputs": [
    {
     "data": {
      "text/plain": [
       "<scikit_learn.pipeline.pipeline.Pipeline at 0x127408550>"
      ]
     },
     "execution_count": 11,
     "metadata": {},
     "output_type": "execute_result"
    }
   ],
   "source": [
    "pipeline.set_params(**params)"
   ]
  },
  {
   "cell_type": "code",
   "execution_count": 5,
   "metadata": {},
   "outputs": [
    {
     "data": {
      "text/plain": [
       "{'lr': {'coef_': 10, 'intercept_': 1},\n",
       " 'scaler': {'with_mean': 'True', 'with_std': 'True'}}"
      ]
     },
     "execution_count": 5,
     "metadata": {},
     "output_type": "execute_result"
    }
   ],
   "source": [
    "fit_params = {\"lr__coef_\": 10, \"lr__intercept_\": 1, \"scaler__with_mean\": \"True\", \"scaler__with_std\": \"True\"}\n",
    "pipeline._route_params(fit_params)"
   ]
  },
  {
   "cell_type": "code",
   "execution_count": null,
   "metadata": {},
   "outputs": [],
   "source": [
    "\n",
    "pipeline_steps = [\n",
    "    (\"scaler\", StandardScaler()),\n",
    "    (\"lr\", LinearRegression()),\n",
    "]\n",
    "\n",
    "pipe = Pipeline(steps=pipeline_steps)\n",
    "steps = pipe.get_params()['steps']\n",
    "stop = 2\n",
    " \n",
    "\n",
    "pipeline = Pipeline(steps=pipeline_steps)\n",
    "pipeline._validate_steps()"
   ]
  },
  {
   "cell_type": "markdown",
   "metadata": {},
   "source": [
    "# MODULES FOLDER"
   ]
  },
  {
   "cell_type": "code",
   "execution_count": null,
   "metadata": {},
   "outputs": [],
   "source": [
    "from mymodules.module1.script1 import MockNormalizer"
   ]
  },
  {
   "cell_type": "code",
   "execution_count": null,
   "metadata": {},
   "outputs": [],
   "source": [
    "normalizer = MockNormalizer()\n",
    "normalizer.normalize_data(mock_data)"
   ]
  },
  {
   "cell_type": "code",
   "execution_count": null,
   "metadata": {},
   "outputs": [],
   "source": [
    "import mymodules.module1.script1 as my_normalizer\n",
    "mock_normalizer = my_normalizer.MockNormalizer()\n",
    "x_transformed = mock_normalizer.normalize_data(mock_data)\n",
    "print(x_transformed)"
   ]
  },
  {
   "cell_type": "code",
   "execution_count": null,
   "metadata": {},
   "outputs": [],
   "source": [
    "from mymodules.module2.script1 import MockCalculator\n",
    "multiplier = MockCalculator()\n",
    "multiplier.multiply(mock_data)"
   ]
  },
  {
   "cell_type": "code",
   "execution_count": null,
   "metadata": {},
   "outputs": [],
   "source": [
    "# Since module0/__init__.py imports MockStandardizer, we can import it directly from module0\n",
    "from mymodules.module0 import MockStandardizer\n",
    "divider = MockCalculator()\n",
    "divider.divide(mock_data)"
   ]
  },
  {
   "cell_type": "code",
   "execution_count": null,
   "metadata": {},
   "outputs": [],
   "source": [
    "from mymodules.module0 import MockStandardizer\n",
    "divider = MockCalculator()\n",
    "divider.divide(mock_data)"
   ]
  },
  {
   "cell_type": "code",
   "execution_count": null,
   "metadata": {},
   "outputs": [],
   "source": [
    "from sklearn.linear_model import LinearRegression"
   ]
  },
  {
   "cell_type": "code",
   "execution_count": null,
   "metadata": {},
   "outputs": [],
   "source": [
    "LinearRegression().get_params()"
   ]
  }
 ],
 "metadata": {
  "kernelspec": {
   "display_name": "env_eng",
   "language": "python",
   "name": "python3"
  },
  "language_info": {
   "codemirror_mode": {
    "name": "ipython",
    "version": 3
   },
   "file_extension": ".py",
   "mimetype": "text/x-python",
   "name": "python",
   "nbconvert_exporter": "python",
   "pygments_lexer": "ipython3",
   "version": "3.11.4"
  }
 },
 "nbformat": 4,
 "nbformat_minor": 2
}
