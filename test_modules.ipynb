{
 "cells": [
  {
   "cell_type": "markdown",
   "metadata": {},
   "source": [
    "# CREATE MOCK DATA"
   ]
  },
  {
   "cell_type": "code",
   "execution_count": 16,
   "metadata": {},
   "outputs": [],
   "source": [
    "mock_data = [1, 2, 3, 4, 5, 6, 7, 8, 9, 10]\n",
    "y = [x/2 for x in mock_data]"
   ]
  },
  {
   "cell_type": "code",
   "execution_count": 30,
   "metadata": {},
   "outputs": [],
   "source": [
    "from scikit_learn.linear_regression import LinearRegression\n",
    "from scikit_learn.create_data import CreateData"
   ]
  },
  {
   "cell_type": "code",
   "execution_count": 36,
   "metadata": {},
   "outputs": [
    {
     "data": {
      "image/png": "[encoded data removed]",
      "text/plain": [
       "<Figure size 640x480 with 1 Axes>"
      ]
     },
     "metadata": {},
     "output_type": "display_data"
    }
   ],
   "source": [
    "data_creator = CreateData(n_samples=100, n_features=1, noise=0.2)\n",
    "X, y = data_creator.create_data()\n",
    "data_creator.plot_data(X, y)"
   ]
  },
  {
   "cell_type": "code",
   "execution_count": 43,
   "metadata": {},
   "outputs": [
    {
     "name": "stdout",
     "output_type": "stream",
     "text": [
      "[1.487387] 0.04443021548944656\n"
     ]
    }
   ],
   "source": [
    "linear_regression = LinearRegression()\n",
    "linear_regression.fit(X, y)\n",
    "coef, intercept = linear_regression.coef_, linear_regression.intercept_\n",
    "print(coef, intercept)"
   ]
  },
  {
   "cell_type": "code",
   "execution_count": 45,
   "metadata": {},
   "outputs": [
    {
     "data": {
      "text/plain": [
       "array([0.86072829, 1.10819358, 0.94097263, 0.85488238, 0.67456886,\n",
       "       1.00512473, 0.69529175, 1.37084179, 1.47776968, 0.61475615,\n",
       "       1.22203175, 0.83110165, 0.88933231, 1.42115063, 0.15008833,\n",
       "       0.1740252 , 0.0745028 , 1.28285815, 1.20185045, 1.33847498,\n",
       "       1.50001442, 1.23308828, 0.73082862, 1.20537917, 0.22035006,\n",
       "       0.99624043, 0.25765203, 1.44951849, 0.82062063, 0.661193  ,\n",
       "       0.43792679, 1.19601534, 0.72290229, 0.88991148, 0.07237792,\n",
       "       0.96309323, 0.95485344, 0.96204982, 1.44814884, 1.05856087,\n",
       "       0.57915759, 0.69446586, 1.08207779, 0.1340088 , 1.03617036,\n",
       "       1.04192827, 0.3573505 , 0.23619352, 0.51359425, 0.58540889,\n",
       "       0.89253348, 0.69680041, 1.51452462, 0.19621034, 0.35511079,\n",
       "       0.2843599 , 1.01585505, 0.42117285, 0.7380148 , 0.40798566,\n",
       "       0.28087951, 0.20860077, 1.02064632, 0.24996174, 0.33682427,\n",
       "       0.59286724, 1.26556488, 0.18885739, 1.29077858, 0.18736574,\n",
       "       1.49680333, 0.74149592, 1.49725196, 0.94406958, 1.14400126,\n",
       "       0.10271763, 0.46507362, 0.22320902, 0.4849053 , 0.22102428,\n",
       "       0.51739426, 0.66059961, 0.13984237, 1.07440425, 0.88718586,\n",
       "       0.4391671 , 0.82270257, 0.18415611, 0.90108555, 1.4266533 ,\n",
       "       0.51826554, 1.03712774, 0.24046464, 1.10988599, 0.47488908,\n",
       "       0.31690667, 0.91680193, 0.07433792, 1.27738484, 0.05141421])"
      ]
     },
     "execution_count": 45,
     "metadata": {},
     "output_type": "execute_result"
    }
   ],
   "source": [
    "predictions = linear_regression.predict(X)"
   ]
  },
  {
   "cell_type": "markdown",
   "metadata": {},
   "source": [
    "# SCIKIT-LEARN"
   ]
  },
  {
   "cell_type": "code",
   "execution_count": 37,
   "metadata": {},
   "outputs": [],
   "source": [
    "from scikit_learn.base_estimator import BaseEstimator\n",
    "import numpy as np"
   ]
  },
  {
   "cell_type": "code",
   "execution_count": 40,
   "metadata": {},
   "outputs": [],
   "source": [
    "base_estimator = BaseEstimator()\n"
   ]
  },
  {
   "cell_type": "markdown",
   "metadata": {},
   "source": [
    "# MODULES FOLDER"
   ]
  },
  {
   "cell_type": "code",
   "execution_count": 1,
   "metadata": {},
   "outputs": [],
   "source": [
    "from mymodules.module1.script1 import MockNormalizer"
   ]
  },
  {
   "cell_type": "code",
   "execution_count": 2,
   "metadata": {},
   "outputs": [],
   "source": []
  },
  {
   "cell_type": "code",
   "execution_count": 3,
   "metadata": {},
   "outputs": [
    {
     "name": "stdout",
     "output_type": "stream",
     "text": [
      "MockPreprocessor.__init__ called\n"
     ]
    },
    {
     "data": {
      "text/plain": [
       "array([0.1, 0.2, 0.3, 0.4, 0.5, 0.6, 0.7, 0.8, 0.9, 1. ])"
      ]
     },
     "execution_count": 3,
     "metadata": {},
     "output_type": "execute_result"
    }
   ],
   "source": [
    "normalizer = MockNormalizer()\n",
    "normalizer.normalize_data(mock_data)"
   ]
  },
  {
   "cell_type": "code",
   "execution_count": 4,
   "metadata": {},
   "outputs": [
    {
     "name": "stdout",
     "output_type": "stream",
     "text": [
      "MockPreprocessor.__init__ called\n"
     ]
    },
    {
     "data": {
      "text/plain": [
       "array([0.1, 0.2, 0.3, 0.4, 0.5, 0.6, 0.7, 0.8, 0.9, 1. ])"
      ]
     },
     "execution_count": 4,
     "metadata": {},
     "output_type": "execute_result"
    }
   ],
   "source": [
    "import mymodules.module1.script1 as my_normalizer\n",
    "mock_normalizer = my_normalizer.MockNormalizer()\n",
    "mock_normalizer.normalize_data(mock_data)"
   ]
  },
  {
   "cell_type": "code",
   "execution_count": 5,
   "metadata": {},
   "outputs": [
    {
     "name": "stdout",
     "output_type": "stream",
     "text": [
      "MockCalculator.__init__ called\n",
      "MockPreprocessor.__init__ called\n"
     ]
    },
    {
     "data": {
      "text/plain": [
       "array([0.2, 0.4, 0.6, 0.8, 1. , 1.2, 1.4, 1.6, 1.8, 2. ])"
      ]
     },
     "execution_count": 5,
     "metadata": {},
     "output_type": "execute_result"
    }
   ],
   "source": [
    "from mymodules.module2.script1 import MockCalculator\n",
    "multiplier = MockCalculator()\n",
    "multiplier.multiply(mock_data)"
   ]
  },
  {
   "cell_type": "code",
   "execution_count": 6,
   "metadata": {},
   "outputs": [
    {
     "name": "stdout",
     "output_type": "stream",
     "text": [
      "MockCalculator.__init__ called\n",
      "MockPreprocessor.__init__ called\n"
     ]
    },
    {
     "data": {
      "text/plain": [
       "array([-0.78334945, -0.6092718 , -0.43519414, -0.26111648, -0.08703883,\n",
       "        0.08703883,  0.26111648,  0.43519414,  0.6092718 ,  0.78334945])"
      ]
     },
     "execution_count": 6,
     "metadata": {},
     "output_type": "execute_result"
    }
   ],
   "source": [
    "# Since module0/__init__.py imports MockStandardizer, we can import it directly from module0\n",
    "from mymodules.module0 import MockStandardizer\n",
    "divider = MockCalculator()\n",
    "divider.divide(mock_data)"
   ]
  },
  {
   "cell_type": "code",
   "execution_count": null,
   "metadata": {},
   "outputs": [],
   "source": [
    "from mymodules.module0 import MockStandardizer\n",
    "divider = MockCalculator()\n",
    "divider.divide(mock_data)"
   ]
  }
 ],
 "metadata": {
  "kernelspec": {
   "display_name": "env_eng",
   "language": "python",
   "name": "python3"
  },
  "language_info": {
   "codemirror_mode": {
    "name": "ipython",
    "version": 3
   },
   "file_extension": ".py",
   "mimetype": "text/x-python",
   "name": "python",
   "nbconvert_exporter": "python",
   "pygments_lexer": "ipython3",
   "version": "3.11.4"
  }
 },
 "nbformat": 4,
 "nbformat_minor": 2
}
